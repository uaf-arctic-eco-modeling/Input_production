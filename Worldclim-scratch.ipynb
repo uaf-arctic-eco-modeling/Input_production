{
 "cells": [
  {
   "cell_type": "code",
   "execution_count": 1,
   "id": "93f81ed7-8c5f-4e2f-bba5-447aa4b71f08",
   "metadata": {},
   "outputs": [],
   "source": [
    "import xarray as xr\n",
    "import numpy as np\n",
    "from osgeo import gdal\n",
    "from pathlib import Path\n",
    "import gc\n",
    "# rows, cols = 1934, 2242 #we will need to calculate this, see the other notebook\n",
    "# months = 2 # will be 12\n",
    "\n",
    "_vars = ['tmin', 'tmax']\n",
    "\n",
    "import sys \n",
    "sys.path.append('Input_production/source/')\n",
    "import worldclim\n",
    "\n"
   ]
  },
  {
   "cell_type": "code",
   "execution_count": 2,
   "id": "ae698d52-4370-4ccd-abcb-c288580ca93c",
   "metadata": {},
   "outputs": [
    {
     "name": "stdout",
     "output_type": "stream",
     "text": [
      "months [1, 2, 3, 4, 5, 6, 7, 8, 9, 10, 11, 12]\n"
     ]
    }
   ],
   "source": [
    "out_srs = 'EPSG:6931'\n",
    "extent_file = '/Users/rwspicer/Desktop/work/TEM/Input_production/working/aoi_5km_buffer_6931.tiff'\n",
    "from importlib import reload\n",
    "import rioxarray  # activate the rio accessor\n",
    "reload(worldclim)\n",
    "\n",
    "months = list(range(1,13))\n",
    "print(f'months {months}')\n",
    "# wc_test = worldclim.WorldClim(months, '', True)\n",
    "# wc_test.new_from_raster_extent(extent_file)"
   ]
  },
  {
   "cell_type": "code",
   "execution_count": null,
   "id": "f7619f91-116f-41b6-bb60-b8fc4e179b21",
   "metadata": {},
   "outputs": [
    {
     "name": "stdout",
     "output_type": "stream",
     "text": [
      "extent (-4602000.0, 4251000.0, 4366000.0, -3485000.0)\n",
      "resolution, 4000.0,-4000.0\n",
      "out size 2242, 1934\n",
      "downloading: https://geodata.ucdavis.edu/climate/worldclim/2_1/base/wc2.1_30s_tmin.zip\n"
     ]
    }
   ],
   "source": [
    "wc_test = worldclim.WorldClim(\n",
    "    worldclim.__WORLDCLIM_URL_PATTERN__, \n",
    "    extent_file, \n",
    "    True, \n",
    "    local_location='worldclim',  \n",
    "    _vars=['tmin']#, 'tmax']#, but remove this line to get all\n",
    ")"
   ]
  },
  {
   "cell_type": "code",
   "execution_count": null,
   "id": "136152dd-c49a-43f1-ba10-5c5cd94354be",
   "metadata": {},
   "outputs": [],
   "source": []
  }
 ],
 "metadata": {
  "kernelspec": {
   "display_name": "ip_0",
   "language": "python",
   "name": "python3"
  },
  "language_info": {
   "codemirror_mode": {
    "name": "ipython",
    "version": 3
   },
   "file_extension": ".py",
   "mimetype": "text/x-python",
   "name": "python",
   "nbconvert_exporter": "python",
   "pygments_lexer": "ipython3",
   "version": "3.11.11"
  }
 },
 "nbformat": 4,
 "nbformat_minor": 5
}
