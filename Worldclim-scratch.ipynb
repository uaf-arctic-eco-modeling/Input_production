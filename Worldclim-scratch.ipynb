{
 "cells": [
  {
   "cell_type": "code",
   "execution_count": 1,
   "id": "93f81ed7-8c5f-4e2f-bba5-447aa4b71f08",
   "metadata": {},
   "outputs": [],
   "source": [
    "import xarray as xr\n",
    "import numpy as np\n",
    "from osgeo import gdal\n",
    "from pathlib import Path\n",
    "import gc\n",
    "# rows, cols = 1934, 2242 #we will need to calculate this, see the other notebook\n",
    "# months = 2 # will be 12\n",
    "\n",
    "_vars = ['tmin', 'tmax']\n",
    "\n",
    "\n",
    "from temds import worldclim\n",
    "\n",
    "from temds import subprograms\n",
    "# gdal.UseExceptions() ## gdal 4.0 future proofing\n",
    "import os"
   ]
  },
  {
   "cell_type": "code",
   "execution_count": 2,
   "id": "ae698d52-4370-4ccd-abcb-c288580ca93c",
   "metadata": {},
   "outputs": [
    {
     "name": "stdout",
     "output_type": "stream",
     "text": [
      "months [1, 2, 3, 4, 5, 6, 7, 8, 9, 10, 11, 12]\n"
     ]
    }
   ],
   "source": [
    "out_srs = 'EPSG:6931'\n",
    "extent_file = '/Users/rwspicer/Desktop/work/TEM/Input_production/working/aoi_5km_buffer_6931.tiff'\n",
    "from importlib import reload\n",
    "import rioxarray  # activate the rio accessor\n",
    "reload(worldclim)\n",
    "\n",
    "months = list(range(1,13))\n",
    "print(f'months {months}')\n",
    "# wc_test = worldclim.WorldClim(months, '', True)\n",
    "# wc_test.new_from_raster_extent(extent_file)"
   ]
  },
  {
   "cell_type": "code",
   "execution_count": 3,
   "id": "98a7efcd-50de-4928-9857-ff378fab8906",
   "metadata": {},
   "outputs": [
    {
     "name": "stdout",
     "output_type": "stream",
     "text": [
      "/Volumes/cpi-data/V3/tem download worldclim\n",
      "Downloading worldclim from https://geodata.ucdavis.edu/climate/worldclim/2_1/base/wc2.1_30s_{var}.zip [overwrite: True]\n",
      "Saving worldclim to /Volumes/cpi-data/V3/tem/01-unprocessed/worldclim \n",
      "extent (-4602000.0, 4251000.0, 4366000.0, -3485000.0)\n",
      "resolution, 4000.0,-4000.0\n",
      "out size 2242, 1934\n",
      "False\n",
      "..WorldClim.download /Volumes/cpi-data/V3/tem/01-unprocessed/worldclim\n",
      "Local file exists /Volumes/cpi-data/V3/tem/01-unprocessed/worldclim/wc2.1_30s_tmax.zip\n",
      "Extracting /Volumes/cpi-data/V3/tem/01-unprocessed/worldclim/wc2.1_30s_tmax.zip\n",
      "Extracting where='/Volumes/cpi-data/V3/tem/01-unprocessed/worldclim/tmax'\n",
      "setting tmax from raw data at '/Volumes/cpi-data/V3/tem/01-unprocessed/worldclim'\n",
      "loading tmax data from /Volumes/cpi-data/V3/tem/01-unprocessed/worldclim/tmax/wc2.1_30s_tmax_01.tif at index 0\n",
      "(-4602000.0, -3481000.0, 4366000.0, 4255000.0)\n",
      ".. Running gdal.Warp\n",
      "loading tmax data from /Volumes/cpi-data/V3/tem/01-unprocessed/worldclim/tmax/wc2.1_30s_tmax_02.tif at index 1\n",
      "(-4602000.0, -3481000.0, 4366000.0, 4255000.0)\n",
      ".. Running gdal.Warp\n",
      "loading tmax data from /Volumes/cpi-data/V3/tem/01-unprocessed/worldclim/tmax/wc2.1_30s_tmax_03.tif at index 2\n",
      "(-4602000.0, -3481000.0, 4366000.0, 4255000.0)\n",
      ".. Running gdal.Warp\n",
      "loading tmax data from /Volumes/cpi-data/V3/tem/01-unprocessed/worldclim/tmax/wc2.1_30s_tmax_04.tif at index 3\n",
      "(-4602000.0, -3481000.0, 4366000.0, 4255000.0)\n",
      ".. Running gdal.Warp\n",
      "loading tmax data from /Volumes/cpi-data/V3/tem/01-unprocessed/worldclim/tmax/wc2.1_30s_tmax_05.tif at index 4\n",
      "(-4602000.0, -3481000.0, 4366000.0, 4255000.0)\n",
      ".. Running gdal.Warp\n",
      "loading tmax data from /Volumes/cpi-data/V3/tem/01-unprocessed/worldclim/tmax/wc2.1_30s_tmax_06.tif at index 5\n",
      "(-4602000.0, -3481000.0, 4366000.0, 4255000.0)\n",
      ".. Running gdal.Warp\n",
      "loading tmax data from /Volumes/cpi-data/V3/tem/01-unprocessed/worldclim/tmax/wc2.1_30s_tmax_07.tif at index 6\n",
      "(-4602000.0, -3481000.0, 4366000.0, 4255000.0)\n",
      ".. Running gdal.Warp\n",
      "loading tmax data from /Volumes/cpi-data/V3/tem/01-unprocessed/worldclim/tmax/wc2.1_30s_tmax_08.tif at index 7\n",
      "(-4602000.0, -3481000.0, 4366000.0, 4255000.0)\n",
      ".. Running gdal.Warp\n",
      "loading tmax data from /Volumes/cpi-data/V3/tem/01-unprocessed/worldclim/tmax/wc2.1_30s_tmax_09.tif at index 8\n",
      "(-4602000.0, -3481000.0, 4366000.0, 4255000.0)\n",
      ".. Running gdal.Warp\n",
      "loading tmax data from /Volumes/cpi-data/V3/tem/01-unprocessed/worldclim/tmax/wc2.1_30s_tmax_10.tif at index 9\n",
      "(-4602000.0, -3481000.0, 4366000.0, 4255000.0)\n",
      ".. Running gdal.Warp\n",
      "loading tmax data from /Volumes/cpi-data/V3/tem/01-unprocessed/worldclim/tmax/wc2.1_30s_tmax_11.tif at index 10\n",
      "(-4602000.0, -3481000.0, 4366000.0, 4255000.0)\n",
      ".. Running gdal.Warp\n",
      "loading tmax data from /Volumes/cpi-data/V3/tem/01-unprocessed/worldclim/tmax/wc2.1_30s_tmax_12.tif at index 11\n",
      "(-4602000.0, -3481000.0, 4366000.0, 4255000.0)\n",
      ".. Running gdal.Warp\n",
      "False\n",
      "..WorldClim.download /Volumes/cpi-data/V3/tem/01-unprocessed/worldclim\n",
      "Local file exists /Volumes/cpi-data/V3/tem/01-unprocessed/worldclim/wc2.1_30s_prec.zip\n",
      "Extracting /Volumes/cpi-data/V3/tem/01-unprocessed/worldclim/wc2.1_30s_prec.zip\n",
      "Extracting where='/Volumes/cpi-data/V3/tem/01-unprocessed/worldclim/prec'\n",
      "setting prec from raw data at '/Volumes/cpi-data/V3/tem/01-unprocessed/worldclim'\n",
      "loading prec data from /Volumes/cpi-data/V3/tem/01-unprocessed/worldclim/prec/wc2.1_30s_prec_01.tif at index 0\n",
      "(-4602000.0, -3481000.0, 4366000.0, 4255000.0)\n",
      ".. Running gdal.Warp\n",
      "loading prec data from /Volumes/cpi-data/V3/tem/01-unprocessed/worldclim/prec/wc2.1_30s_prec_02.tif at index 1\n",
      "(-4602000.0, -3481000.0, 4366000.0, 4255000.0)\n",
      ".. Running gdal.Warp\n",
      "loading prec data from /Volumes/cpi-data/V3/tem/01-unprocessed/worldclim/prec/wc2.1_30s_prec_03.tif at index 2\n",
      "(-4602000.0, -3481000.0, 4366000.0, 4255000.0)\n",
      ".. Running gdal.Warp\n",
      "loading prec data from /Volumes/cpi-data/V3/tem/01-unprocessed/worldclim/prec/wc2.1_30s_prec_04.tif at index 3\n",
      "(-4602000.0, -3481000.0, 4366000.0, 4255000.0)\n",
      ".. Running gdal.Warp\n",
      "loading prec data from /Volumes/cpi-data/V3/tem/01-unprocessed/worldclim/prec/wc2.1_30s_prec_05.tif at index 4\n",
      "(-4602000.0, -3481000.0, 4366000.0, 4255000.0)\n",
      ".. Running gdal.Warp\n",
      "loading prec data from /Volumes/cpi-data/V3/tem/01-unprocessed/worldclim/prec/wc2.1_30s_prec_06.tif at index 5\n",
      "(-4602000.0, -3481000.0, 4366000.0, 4255000.0)\n",
      ".. Running gdal.Warp\n",
      "loading prec data from /Volumes/cpi-data/V3/tem/01-unprocessed/worldclim/prec/wc2.1_30s_prec_07.tif at index 6\n",
      "(-4602000.0, -3481000.0, 4366000.0, 4255000.0)\n",
      ".. Running gdal.Warp\n",
      "loading prec data from /Volumes/cpi-data/V3/tem/01-unprocessed/worldclim/prec/wc2.1_30s_prec_08.tif at index 7\n",
      "(-4602000.0, -3481000.0, 4366000.0, 4255000.0)\n",
      ".. Running gdal.Warp\n",
      "loading prec data from /Volumes/cpi-data/V3/tem/01-unprocessed/worldclim/prec/wc2.1_30s_prec_09.tif at index 8\n",
      "(-4602000.0, -3481000.0, 4366000.0, 4255000.0)\n",
      ".. Running gdal.Warp\n",
      "loading prec data from /Volumes/cpi-data/V3/tem/01-unprocessed/worldclim/prec/wc2.1_30s_prec_10.tif at index 9\n",
      "(-4602000.0, -3481000.0, 4366000.0, 4255000.0)\n",
      ".. Running gdal.Warp\n",
      "loading prec data from /Volumes/cpi-data/V3/tem/01-unprocessed/worldclim/prec/wc2.1_30s_prec_11.tif at index 10\n",
      "(-4602000.0, -3481000.0, 4366000.0, 4255000.0)\n",
      ".. Running gdal.Warp\n",
      "loading prec data from /Volumes/cpi-data/V3/tem/01-unprocessed/worldclim/prec/wc2.1_30s_prec_12.tif at index 11\n",
      "(-4602000.0, -3481000.0, 4366000.0, 4255000.0)\n",
      ".. Running gdal.Warp\n"
     ]
    }
   ],
   "source": [
    "config = 'my-config.yml'\n",
    "wc_test = subprograms.download('worldclim', config=config)\n"
   ]
  },
  {
   "cell_type": "code",
   "execution_count": 5,
   "id": "136152dd-c49a-43f1-ba10-5c5cd94354be",
   "metadata": {},
   "outputs": [],
   "source": [
    "wc_test.save('worldclimJunk.nc')"
   ]
  },
  {
   "cell_type": "code",
   "execution_count": null,
   "id": "fc0a7c46-4ce0-4c54-9645-0e360b8eeaaf",
   "metadata": {},
   "outputs": [],
   "source": []
  }
 ],
 "metadata": {
  "kernelspec": {
   "display_name": "Python 3 (ipykernel)",
   "language": "python",
   "name": "python3"
  },
  "language_info": {
   "codemirror_mode": {
    "name": "ipython",
    "version": 3
   },
   "file_extension": ".py",
   "mimetype": "text/x-python",
   "name": "python",
   "nbconvert_exporter": "python",
   "pygments_lexer": "ipython3",
   "version": "3.11.11"
  }
 },
 "nbformat": 4,
 "nbformat_minor": 5
}
