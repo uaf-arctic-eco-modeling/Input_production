{
 "cells": [
  {
   "cell_type": "code",
   "execution_count": 1,
   "id": "3e69cf48-e05e-4391-b565-df312e04baf6",
   "metadata": {},
   "outputs": [],
   "source": [
    "from temds.tile import Tile\n",
    "from temds.datasources import annual\n",
    "import xarray as xr"
   ]
  },
  {
   "cell_type": "code",
   "execution_count": 2,
   "id": "43feb080-e16c-486e-97cd-0680d2153361",
   "metadata": {},
   "outputs": [
    {
     "name": "stdout",
     "output_type": "stream",
     "text": [
      "<class 'pathlib.PosixPath'>\n",
      "loading from directory: /media/rwspicer/data/V3/tem/03-tiles-testing/H07_V16/cru_AnnualTimeSeries\n",
      "Checking Continuity (basic)\n",
      "Data is continuous\n",
      "Checking Continuity (advanced)\n",
      "-- Checking 1970\n",
      "-- Checking 1971\n",
      "-- Checking 1972\n",
      "-- Checking 1973\n",
      "-- Checking 1974\n",
      "-- Checking 1975\n",
      "-- Checking 1976\n",
      "-- Checking 1977\n",
      "-- Checking 1978\n",
      "-- Checking 1979\n",
      "-- Checking 1980\n",
      "-- Checking 1981\n",
      "-- Checking 1982\n",
      "-- Checking 1983\n",
      "-- Checking 1984\n",
      "-- Checking 1985\n",
      "-- Checking 1986\n",
      "-- Checking 1987\n",
      "-- Checking 1988\n",
      "-- Checking 1989\n",
      "-- Checking 1990\n",
      "-- Checking 1991\n",
      "-- Checking 1992\n",
      "-- Checking 1993\n",
      "-- Checking 1994\n",
      "-- Checking 1995\n",
      "-- Checking 1996\n",
      "-- Checking 1997\n",
      "-- Checking 1998\n",
      "-- Checking 1999\n",
      "-- Checking 2000\n",
      "-- Checking 2001\n",
      "Data is continuous\n"
     ]
    },
    {
     "data": {
      "text/plain": [
       "Tile: (7, 16) with data for: cru_AnnualTimeSeries, cru_baseline, worldclim"
      ]
     },
     "execution_count": 2,
     "metadata": {},
     "output_type": "execute_result"
    }
   ],
   "source": [
    "mytile = Tile.tile_from_directory('/media/rwspicer/data/V3/tem/03-tiles-testing/H07_V16/')\n",
    "mytile"
   ]
  },
  {
   "cell_type": "code",
   "execution_count": null,
   "id": "33dec489-8f03-44b6-944c-a17d6bff4d2f",
   "metadata": {},
   "outputs": [],
   "source": []
  }
 ],
 "metadata": {
  "kernelspec": {
   "display_name": "Python 3 (ipykernel)",
   "language": "python",
   "name": "python3"
  },
  "language_info": {
   "codemirror_mode": {
    "name": "ipython",
    "version": 3
   },
   "file_extension": ".py",
   "mimetype": "text/x-python",
   "name": "python",
   "nbconvert_exporter": "python",
   "pygments_lexer": "ipython3",
   "version": "3.11.11"
  }
 },
 "nbformat": 4,
 "nbformat_minor": 5
}
