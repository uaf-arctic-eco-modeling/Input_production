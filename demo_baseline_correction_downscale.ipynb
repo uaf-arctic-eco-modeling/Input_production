{
 "cells": [
  {
   "cell_type": "markdown",
   "id": "0",
   "metadata": {},
   "source": [
    "# Summary\n",
    "\n",
    "This will cover calculating a baseline, calculating correction factors, \n",
    "and downscaling. The notebook assumed that you have run the prior notebooks\n",
    "and have a tile directory with the following files in it:\n",
    "\n",
    "  - `cru_AnnualTimeSeries/cru_AnnualTimeSeries-YYYY.nc`\n",
    "  - `manifest.yml`\n",
    "  - `worldclim.nc`\n",
    "\n",
    "Start by loading libraries. "
   ]
  },
  {
   "cell_type": "code",
   "execution_count": null,
   "id": "1",
   "metadata": {},
   "outputs": [],
   "source": [
    "# For development...\n",
    "# %load_ext autoreload\n",
    "# %autoreload 2\n",
    "\n",
    "from temds import tile\n",
    "from temds.datasources import crujra\n",
    "from temds.datasources import worldclim"
   ]
  },
  {
   "cell_type": "markdown",
   "id": "2",
   "metadata": {},
   "source": [
    "# Load the tile\n",
    "\n",
    "This function will make an in memory `Tile` object with data from the directory passed to it."
   ]
  },
  {
   "cell_type": "code",
   "execution_count": null,
   "id": "3",
   "metadata": {},
   "outputs": [],
   "source": [
    "mytile = tile.Tile.tile_from_directory(\"working/03-tiles/H00_V08\")\n",
    "  "
   ]
  },
  {
   "cell_type": "code",
   "execution_count": null,
   "id": "4",
   "metadata": {},
   "outputs": [],
   "source": [
    "for k,v in mytile.data.items():\n",
    "  print(f\"The tile has the key '{k}' to a variable of type {type(v)}\")\n"
   ]
  },
  {
   "cell_type": "code",
   "execution_count": null,
   "id": "5",
   "metadata": {},
   "outputs": [],
   "source": [
    "#start_year = mytile.data['cru_AnnualTimeSeries'].range()[0]\n",
    "#end_year = mytile.data['cru_AnnualTimeSeries'].range()[-1]\n",
    "\n",
    "start_year = 1970\n",
    "end_year = start_year + 30\n",
    "print(f\"Start year: {start_year}, End year: {end_year}\")"
   ]
  },
  {
   "cell_type": "markdown",
   "id": "6",
   "metadata": {},
   "source": [
    "# Calculate the baseline\n",
    "\n",
    "The docstring for `crujra.AnnualTimeSeries.create_climate_baseline()` is helpful:"
   ]
  },
  {
   "cell_type": "code",
   "execution_count": null,
   "id": "7",
   "metadata": {},
   "outputs": [],
   "source": [
    "#print(crujra.AnnualTimeSeries.create_climate_baseline.__doc__)"
   ]
  },
  {
   "cell_type": "markdown",
   "id": "8",
   "metadata": {},
   "source": [
    "Once the baseline is computed, it is now in memory as part of the `Tile` object. If you save the object you will additionally get a baseline.nc file and that should be added to the manifest."
   ]
  },
  {
   "cell_type": "code",
   "execution_count": null,
   "id": "9",
   "metadata": {},
   "outputs": [],
   "source": [
    "mytile.calculate_climate_baseline(start_year, start_year + 30, 'cru_baseline', 'cru_AnnualTimeSeries')\n",
    "mytile.data['cru_baseline']"
   ]
  },
  {
   "cell_type": "markdown",
   "id": "10",
   "metadata": {},
   "source": [
    "# Correction Factors\n",
    "\n",
    "Now that we have a climate baseline calcuated, we need to calculate correction\n",
    "factors. The correction factors are handled slightly differently for different types\n",
    "of variables (i.e. mean for some values, sum for others). Additionally the \n",
    "variables used are named slightly differently in the baseline and reference datasets.\n",
    "\n",
    "So we start here by making a dictionary holding this info that we can pass to \n",
    "the correction factor function."
   ]
  },
  {
   "cell_type": "code",
   "execution_count": null,
   "id": "11",
   "metadata": {},
   "outputs": [],
   "source": [
    "variables_cf = {\n",
    "    'tmax': {'function': 'temperature', 'reference': 'tmax','baseline':'tmax', 'name': 'tmax'},\n",
    "    'tmin': {'function': 'temperature', 'reference': 'tmin','baseline':'tmin', 'name': 'tmin'},\n",
    "    'tavg': {'function': 'temperature', 'reference': 'tavg','baseline':'tmp', 'name': 'tavg'},\n",
    "    'prec': {'function': 'precipitation', 'reference': 'prec','baseline':'pre', 'name': 'prec'},\n",
    "\n",
    "    'vapo_pa': {\n",
    "        'function': 'vapor-pressure', \n",
    "        'reference': 'vapr',\n",
    "        'baseline-pres':'pres', \n",
    "        'baseline-spfh': 'spfh',\n",
    "        'name': 'vapo'\n",
    "        },\n",
    "    'nirr': {\n",
    "        'function': 'radiation', \n",
    "        'reference': 'srad',\n",
    "        'baseline':'dswrf', \n",
    "        'name': 'nirr'\n",
    "        \n",
    "    },\n",
    "    'ws': {\n",
    "        'function': 'wind-speed', \n",
    "        'reference': 'wind',\n",
    "        'baseline-ugrd': 'ugrd', \n",
    "        'baseline-vgrd': 'vgrd', \n",
    "        'name': 'ws'\n",
    "        \n",
    "    }\n",
    "}\n",
    "\n",
    "# Calculate correction factors for the variables\n",
    "mytile.calculate_correction_factors('cru_baseline', 'worldclim', variables=variables_cf)"
   ]
  },
  {
   "cell_type": "markdown",
   "id": "12",
   "metadata": {},
   "source": []
  },
  {
   "cell_type": "markdown",
   "id": "13",
   "metadata": {},
   "source": [
    "Now our tile object has a new `correction_factors` key in the data dictionary:"
   ]
  },
  {
   "cell_type": "code",
   "execution_count": null,
   "id": "14",
   "metadata": {},
   "outputs": [],
   "source": [
    "print(mytile.data.keys())\n",
    "print()\n",
    "print(\"Correction Factors:\")\n",
    "print(mytile.data['correction_factors'])"
   ]
  },
  {
   "cell_type": "markdown",
   "id": "15",
   "metadata": {},
   "source": [
    "# Downscaling\n",
    "\n",
    "The downscaling resamples the data to a finer resolution and applies the \n",
    "correction factors."
   ]
  },
  {
   "cell_type": "code",
   "execution_count": null,
   "id": "16",
   "metadata": {},
   "outputs": [],
   "source": [
    "variables_ds = {\n",
    "    'tmax': {'function': 'temperature', 'temperature': 'tmax','correction_factor':'tmax', 'name': 'tmax'},\n",
    "    'tmin': {'function': 'temperature', 'temperature': 'tmin','correction_factor':'tmin', 'name': 'tmin'},\n",
    "    'tavg': {'function': 'temperature', 'temperature': 'tmp','correction_factor':'tavg', 'name': 'tavg'},\n",
    "    'prec': {'function': 'precipitation', 'precipitation': 'pre','correction_factor':'prec', 'name': 'prec'},\n",
    "    'vapo': {'function': 'vapor-pressure', 'name': 'vapo', 'pres':'pres', 'spfh':'spfh', 'correction_factor': 'vapo' },\n",
    "    'nirr': {'function':'radiation', 'name': 'nirr', 'dswrf':'dswrf','correction_factor': 'nirr'},\n",
    "    'wind': {'function':'wind-speed', 'name': 'wind', 'ugrd': 'ugrd', 'vgrd':'vgrd', 'correction_factor':'ws'},\n",
    "    'winddir': {'function':'wind-direction', 'name': 'winddir', 'ugrd': 'ugrd', 'vgrd':'vgrd' },\n",
    "}\n",
    "\n",
    "mytile.downscale_timeseries('downscaled_cru', 'cru_AnnualTimeSeries','correction_factors', variables_ds, True)\n",
    "\n",
    "\n"
   ]
  },
  {
   "cell_type": "markdown",
   "id": "17",
   "metadata": {},
   "source": [
    "Once we have the downscaling done, we can save the data for the tile.\n",
    "\n"
   ]
  },
  {
   "cell_type": "code",
   "execution_count": null,
   "id": "18",
   "metadata": {},
   "outputs": [],
   "source": [
    "# Make sure the output directory exists\n",
    "!mkdir -p working/04-downscaled-tiles/\n",
    "mytile.save(\"working/04-downscaled-tiles\", items=['downscaled_cru', 'cru_baseline', 'correction_factors'], complevel=1)"
   ]
  },
  {
   "cell_type": "code",
   "execution_count": null,
   "id": "19",
   "metadata": {},
   "outputs": [],
   "source": [
    "!ls working/04-downscaled-tiles/H00_V08/"
   ]
  },
  {
   "cell_type": "markdown",
   "id": "20",
   "metadata": {},
   "source": [
    "# V ---- SCRATCH ---- V"
   ]
  },
  {
   "cell_type": "code",
   "execution_count": null,
   "id": "23",
   "metadata": {},
   "outputs": [],
   "source": []
  },
  {
   "cell_type": "code",
   "execution_count": null,
   "id": "22",
   "metadata": {},
   "outputs": [],
   "source": [
    "type(mytile.crs)\n",
    "\n",
    "import pyproj\n",
    "\n",
    "pyproj.CRS.from_user_input(mytile.crs).to_wkt()"
   ]
  },
  {
   "cell_type": "code",
   "execution_count": null,
   "id": "23",
   "metadata": {},
   "outputs": [],
   "source": []
  },
  {
   "cell_type": "code",
   "execution_count": null,
   "id": "24",
   "metadata": {},
   "outputs": [],
   "source": []
  }
 ],
 "metadata": {
  "kernelspec": {
   "display_name": "temds",
   "language": "python",
   "name": "python3"
  },
  "language_info": {
   "codemirror_mode": {
    "name": "ipython",
    "version": 3
   },
   "file_extension": ".py",
   "mimetype": "text/x-python",
   "name": "python",
   "nbconvert_exporter": "python",
   "pygments_lexer": "ipython3",
   "version": "3.11.12"
  }
 },
 "nbformat": 4,
 "nbformat_minor": 5
}
