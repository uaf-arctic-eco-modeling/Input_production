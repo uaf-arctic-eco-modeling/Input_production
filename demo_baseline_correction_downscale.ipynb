{
 "cells": [
  {
   "cell_type": "markdown",
   "id": "0",
   "metadata": {},
   "source": [
    "# Summary\n",
    "\n",
    "This will cover calculating a baseline, calculating correction factors, \n",
    "and downscaling. The notebook assumed that you have run the prior notebooks\n",
    "and have a tile directory with the following files in it:\n",
    "\n",
    "  - `cru-input/cru-input-YYYY.nc`\n",
    "  - `manifest.yml`\n",
    "  - `worldclim.nc`\n",
    "\n",
    "Start by loading libraries. "
   ]
  },
  {
   "cell_type": "code",
   "execution_count": null,
   "id": "1",
   "metadata": {},
   "outputs": [],
   "source": [
    "# For development...\n",
    "# %load_ext autoreload\n",
    "# %autoreload 2\n",
    "\n",
    "from temds import tile, climate_variables\n"
   ]
  },
  {
   "cell_type": "markdown",
   "id": "2",
   "metadata": {},
   "source": [
    "# Set up a log for the process\n",
    "\n",
    "Our tools use an object to log and display various messages that may be created. There are several message priorities that\n",
    "a logged message may have. All messages are saved, but only messages with the priority set in `verbose_levels` are printed to the screen\\console. For this demo we will display all **INFO** messages, but if you are having issues it may be usefull to \n",
    "log all **DEBUG** messages. "
   ]
  },
  {
   "cell_type": "code",
   "execution_count": null,
   "id": "3",
   "metadata": {},
   "outputs": [],
   "source": [
    "from temds import logger\n",
    "log = logger.Logger(verbose_levels=logger.INFO)"
   ]
  },
  {
   "cell_type": "markdown",
   "id": "4",
   "metadata": {},
   "source": [
    "# Load the tile\n",
    "\n",
    "This function will make an in memory `Tile` object with data from the directory passed to it."
   ]
  },
  {
   "cell_type": "code",
   "execution_count": null,
   "id": "5",
   "metadata": {},
   "outputs": [],
   "source": [
    "mytile = tile.Tile.tile_from_directory(\"working/03-tiles/H00_V08\")\n",
    "## set the logger for all tile objects\n",
    "mytile.set_logger(log)\n",
    "mytile"
   ]
  },
  {
   "cell_type": "code",
   "execution_count": null,
   "id": "6",
   "metadata": {},
   "outputs": [],
   "source": [
    "for k,v in mytile.data.items():\n",
    "  print(f\"The tile has the key '{k}' to a variable of type {type(v)}\")\n"
   ]
  },
  {
   "cell_type": "code",
   "execution_count": null,
   "id": "7",
   "metadata": {},
   "outputs": [],
   "source": [
    "#start_year = mytile.data['cru_AnnualTimeSeries'].range()[0]\n",
    "#end_year = mytile.data['cru_AnnualTimeSeries'].range()[-1]\n",
    "\n",
    "start_year = 1970\n",
    "end_year = start_year + 30\n",
    "print(f\"Start year: {start_year}, End year: {end_year}\")"
   ]
  },
  {
   "cell_type": "markdown",
   "id": "8",
   "metadata": {},
   "source": [
    "# Calculate the baseline\n",
    "\n",
    "The docstring for `crujra.AnnualTimeSeries.create_climate_baseline()` is helpful:"
   ]
  },
  {
   "cell_type": "code",
   "execution_count": null,
   "id": "9",
   "metadata": {},
   "outputs": [],
   "source": [
    "#print(crujra.AnnualTimeSeries.create_climate_baseline.__doc__)"
   ]
  },
  {
   "cell_type": "markdown",
   "id": "10",
   "metadata": {},
   "source": [
    "Once the baseline is computed, it is now in memory as part of the `Tile` object. If you save the object you will additionally get a baseline.nc file and that should be added to the manifest."
   ]
  },
  {
   "cell_type": "code",
   "execution_count": null,
   "id": "11",
   "metadata": {},
   "outputs": [],
   "source": [
    "mytile.calculate_climate_baseline(start_year, start_year + 30, 'cru-baseline', 'cru-input')\n",
    "mytile.data['cru-baseline']"
   ]
  },
  {
   "cell_type": "markdown",
   "id": "12",
   "metadata": {},
   "source": [
    "# Correction Factors\n",
    "\n",
    "Now that we have a climate baseline calcuated, we need to calculate correction\n",
    "factors. The correction factors are handled slightly differently for different types\n",
    "of variables (i.e. mean for some values, sum for others). Additionally the \n",
    "variables used are named slightly differently in the baseline and reference datasets.\n",
    "\n",
    "So we start here by making a dictionary holding this info that we can pass to \n",
    "the correction factor function."
   ]
  },
  {
   "cell_type": "code",
   "execution_count": null,
   "id": "13",
   "metadata": {},
   "outputs": [],
   "source": [
    "\n",
    "# Calculate correction factors for the variables\n",
    "mytile.calculate_correction_factors('cru-baseline','worldclim', climate_variables.DOWNSCALE_SAFE, 'cru-delta-cf')"
   ]
  },
  {
   "cell_type": "markdown",
   "id": "14",
   "metadata": {},
   "source": []
  },
  {
   "cell_type": "markdown",
   "id": "15",
   "metadata": {},
   "source": [
    "Now our tile object has a new `correction_factors` key in the data dictionary:"
   ]
  },
  {
   "cell_type": "code",
   "execution_count": null,
   "id": "16",
   "metadata": {},
   "outputs": [],
   "source": [
    "print(mytile.data.keys())\n",
    "print()\n",
    "print(\"Correction Factors:\")\n",
    "print(mytile.data['cru-delta-cf'])"
   ]
  },
  {
   "cell_type": "markdown",
   "id": "17",
   "metadata": {},
   "source": [
    "# Downscaling\n",
    "\n",
    "The downscaling resamples the data to a finer resolution and applies the \n",
    "correction factors."
   ]
  },
  {
   "cell_type": "code",
   "execution_count": null,
   "id": "18",
   "metadata": {},
   "outputs": [],
   "source": [
    "variables_ds = ['tair_avg', 'tair_max', 'tair_min', 'prec', 'nirr', 'wind', 'vapo', 'winddir']\n",
    "mytile.downscale_timeseries('cru-downscaled', 'cru-input', 'cru-delta-cf', variables_ds, False)\n",
    "\n",
    "\n"
   ]
  },
  {
   "cell_type": "markdown",
   "id": "19",
   "metadata": {},
   "source": [
    "Once we have the downscaling done, we can save the data for the tile.\n",
    "\n"
   ]
  },
  {
   "cell_type": "code",
   "execution_count": null,
   "id": "20",
   "metadata": {},
   "outputs": [],
   "source": [
    "# Make sure the output directory exists\n",
    "!mkdir -p working/04-downscaled-tiles/\n",
    "mytile.save(\"working/04-downscaled-tiles\", items=['cru-downscaled', 'cru-baseline', 'cru-delta-cf'], use_zlib=False)"
   ]
  },
  {
   "cell_type": "code",
   "execution_count": null,
   "id": "21",
   "metadata": {},
   "outputs": [],
   "source": [
    "!ls working/04-downscaled-tiles/H00_V08/"
   ]
  },
  {
   "cell_type": "markdown",
   "id": "22",
   "metadata": {},
   "source": [
    "# V ---- SCRATCH ---- V"
   ]
  },
  {
   "cell_type": "code",
   "execution_count": null,
   "id": "23",
   "metadata": {},
   "outputs": [],
   "source": []
  },
  {
   "cell_type": "code",
   "execution_count": null,
   "id": "24",
   "metadata": {},
   "outputs": [],
   "source": [
    "type(mytile.crs)\n",
    "\n",
    "import pyproj\n",
    "\n",
    "pyproj.CRS.from_user_input(mytile.crs).to_wkt()"
   ]
  },
  {
   "cell_type": "code",
   "execution_count": null,
   "id": "25",
   "metadata": {},
   "outputs": [],
   "source": []
  },
  {
   "cell_type": "code",
   "execution_count": null,
   "id": "26",
   "metadata": {},
   "outputs": [],
   "source": []
  }
 ],
 "metadata": {
  "kernelspec": {
   "display_name": "Python 3 (ipykernel)",
   "language": "python",
   "name": "python3"
  },
  "language_info": {
   "codemirror_mode": {
    "name": "ipython",
    "version": 3
   },
   "file_extension": ".py",
   "mimetype": "text/x-python",
   "name": "python",
   "nbconvert_exporter": "python",
   "pygments_lexer": "ipython3",
   "version": "3.11.11"
  }
 },
 "nbformat": 4,
 "nbformat_minor": 5
}
