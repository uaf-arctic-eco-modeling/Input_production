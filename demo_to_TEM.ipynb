{
 "cells": [
  {
   "cell_type": "markdown",
   "id": "0",
   "metadata": {},
   "source": [
    "# Summary\n",
    "\n",
    "This notebook shows how to create a set of TEM inputs from a Tile object. This\n",
    "assumes that you have run all the previous demos and that you have all the data\n",
    "available for the Tile object, but most importantly, that you have the downscaled\n",
    "data.\n",
    "\n",
    "The final step is to re-format (and possibly resample - again!) the data so that\n",
    "it is a valid input dataset for the TEM ecosystem model.\n",
    "\n",
    "In this instance, the downscaled data that we have is daily data and we need to\n",
    "convert it to monthly for TEM.\n"
   ]
  },
  {
   "cell_type": "code",
   "execution_count": null,
   "id": "1",
   "metadata": {},
   "outputs": [],
   "source": [
    "# For development...\n",
    "# %load_ext autoreload\n",
    "# %autoreload 2\n",
    "\n",
    "from temds import tile\n"
   ]
  },
  {
   "cell_type": "markdown",
   "id": "2",
   "metadata": {},
   "source": [
    "Start by loading a tile of downscaled data that we have from the previous step:"
   ]
  },
  {
   "cell_type": "code",
   "execution_count": null,
   "id": "3",
   "metadata": {},
   "outputs": [],
   "source": [
    "_H00_V08 = tile.Tile.tile_from_directory(\"working/04-downscaled-tiles/H00_V08\")"
   ]
  },
  {
   "cell_type": "markdown",
   "id": "4",
   "metadata": {},
   "source": [
    "Then convert it to the DVMDOSTEM format:"
   ]
  },
  {
   "cell_type": "code",
   "execution_count": null,
   "id": "5",
   "metadata": {},
   "outputs": [],
   "source": [
    "\n",
    "tem_data = _H00_V08.to_TEM()\n"
   ]
  },
  {
   "cell_type": "code",
   "execution_count": null,
   "id": "6",
   "metadata": {},
   "outputs": [],
   "source": []
  },
  {
   "cell_type": "markdown",
   "id": "7",
   "metadata": {},
   "source": [
    "And save it into a new folder:"
   ]
  },
  {
   "cell_type": "code",
   "execution_count": null,
   "id": "8",
   "metadata": {},
   "outputs": [],
   "source": [
    "\n",
    "!mkdir -p working/05-tiles-TEM/H00_V08\n",
    "tem_data.to_netcdf(\"working/05-tiles-TEM/H00_V08/historic-climate.nc\")\n"
   ]
  },
  {
   "cell_type": "markdown",
   "id": "9",
   "metadata": {},
   "source": [
    "While the data is in memory, we may as well plot some of it..."
   ]
  },
  {
   "cell_type": "code",
   "execution_count": null,
   "id": "10",
   "metadata": {},
   "outputs": [],
   "source": [
    "import dev_scripts.scratch_compare as sc"
   ]
  },
  {
   "cell_type": "code",
   "execution_count": null,
   "id": "11",
   "metadata": {},
   "outputs": [],
   "source": [
    "sc.comp_1('tair')"
   ]
  },
  {
   "cell_type": "code",
   "execution_count": null,
   "id": "12",
   "metadata": {},
   "outputs": [],
   "source": [
    "sc.comp_2('tair')\n"
   ]
  },
  {
   "cell_type": "code",
   "execution_count": null,
   "id": "13",
   "metadata": {},
   "outputs": [],
   "source": []
  },
  {
   "cell_type": "code",
   "execution_count": null,
   "id": "14",
   "metadata": {},
   "outputs": [],
   "source": [
    "import matplotlib.pyplot as plt\n",
    "\n",
    "fig, ax = plt.subplots(4,1, figsize=(8,12), sharex=True)\n",
    "ax[0].plot(tem_data.tair.mean(dim=[\"y\", \"x\"]))\n",
    "ax[1].plot(tem_data.vapor_press.mean(dim=[\"y\", \"x\"]))\n",
    "ax[2].plot(tem_data.nirr.mean(dim=[\"y\", \"x\"]))\n",
    "ax[3].plot(tem_data.precip.mean(dim=[\"y\", \"x\"]))\n"
   ]
  },
  {
   "cell_type": "code",
   "execution_count": null,
   "id": "15",
   "metadata": {},
   "outputs": [],
   "source": [
    "fig, axes = plt.subplots(2,2, figsize=(12,8), sharex=True, sharey=True)\n",
    "\n",
    "t_im = axes[0,0].imshow(tem_data.tair.mean(dim=\"time\"), origin=\"lower\") \n",
    "axes[0,0].set_title(\"tair\")\n",
    "fig.colorbar(t_im, ax=axes[0,0], label=\"tair (degC)\")\n",
    "\n",
    "vp_im = axes[0,1].imshow(tem_data.vapor_press.mean(dim=\"time\"), origin=\"lower\")  \n",
    "axes[0,1].set_title(\"vapor_press\")\n",
    "fig.colorbar(vp_im, ax=axes[0,1], label=\"vapor_press (hPa)\")\n",
    "\n",
    "n_im = axes[1,0].imshow(tem_data.nirr.mean(dim=\"time\"), origin=\"lower\")  \n",
    "axes[1,0].set_title(\"nirr\")\n",
    "fig.colorbar(n_im, ax=axes[1,0], label=\"nirr (W/m^2)\")\n",
    "\n",
    "\n",
    "p_im = axes[1,1].imshow(tem_data.precip.mean(dim=\"time\"), origin=\"lower\")  \n",
    "axes[1,1].set_title(\"precip\")\n",
    "fig.colorbar(p_im, ax=axes[1,1], label=\"precip (??))\")\n",
    "\n",
    "\n",
    "#fig.colorbar(im, ax=axes[1,1], label=\"precip (mm/day)\")\n",
    "plt.tight_layout()\n",
    "plt.show()"
   ]
  },
  {
   "cell_type": "code",
   "execution_count": null,
   "id": "16",
   "metadata": {},
   "outputs": [],
   "source": []
  }
 ],
 "metadata": {
  "kernelspec": {
   "display_name": "temds",
   "language": "python",
   "name": "python3"
  },
  "language_info": {
   "codemirror_mode": {
    "name": "ipython",
    "version": 3
   },
   "file_extension": ".py",
   "mimetype": "text/x-python",
   "name": "python",
   "nbconvert_exporter": "python",
   "pygments_lexer": "ipython3",
   "version": "3.11.12"
  }
 },
 "nbformat": 4,
 "nbformat_minor": 5
}
