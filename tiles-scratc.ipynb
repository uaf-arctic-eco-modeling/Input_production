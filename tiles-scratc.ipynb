{
 "cells": [
  {
   "cell_type": "code",
   "execution_count": 1,
   "id": "d963a9d4-9cc3-452f-8f78-1b88cd546ad9",
   "metadata": {},
   "outputs": [],
   "source": [
    "from temds import tile\n",
    "from osgeo import ogr\n",
    "import geopandas as gpd\n",
    "import numpy as np\n",
    "import rioxarray as rio\n",
    "from temds import worldclim\n",
    "from temds import crujra\n",
    "import xarray as xr\n",
    "\n",
    "from pathlib import Path\n",
    "\n",
    "from affine import Affine\n"
   ]
  },
  {
   "cell_type": "code",
   "execution_count": 2,
   "id": "7f13e672-20d8-4417-89df-3c83c81fbb3d",
   "metadata": {
    "scrolled": true
   },
   "outputs": [
    {
     "data": {
      "text/plain": [
       "(-1678000.0, -1402000.0, 2915000.0, 3315000.0)"
      ]
     },
     "execution_count": 2,
     "metadata": {},
     "output_type": "execute_result"
    }
   ],
   "source": [
    "c_tile = (7, 16)\n",
    "tile_index = gpd.read_file('/media/rwspicer/data/V3/tem/00-aoi/tile-index/')\n",
    "hdx = tile_index['H'] == c_tile[0]\n",
    "vdx = tile_index['V'] == c_tile[1]\n",
    "bounds = tile_index[vdx & hdx].bounds\n",
    "minx, maxx, miny, maxy = bounds[['minx','maxx','miny','maxy']].iloc[0]\n",
    "minx, maxx, miny, maxy"
   ]
  },
  {
   "cell_type": "code",
   "execution_count": 3,
   "id": "c601ec9f-d42d-492f-846c-26c2b0c74c0b",
   "metadata": {},
   "outputs": [],
   "source": [
    "wc_arctic = worldclim.WorldClim('/media/rwspicer/data/V3/tem/02-arctic/worldclim/worldclim-arctic.nc')"
   ]
  },
  {
   "cell_type": "code",
   "execution_count": 4,
   "id": "8fbcafde-bd89-4083-9df5-76a35f9195fe",
   "metadata": {},
   "outputs": [
    {
     "data": {
      "text/plain": [
       "CRS.from_wkt('PROJCS[\"WGS 84 / NSIDC EASE-Grid 2.0 North\",GEOGCS[\"WGS 84\",DATUM[\"WGS_1984\",SPHEROID[\"WGS 84\",6378137,298.257223563,AUTHORITY[\"EPSG\",\"7030\"]],AUTHORITY[\"EPSG\",\"6326\"]],PRIMEM[\"Greenwich\",0,AUTHORITY[\"EPSG\",\"8901\"]],UNIT[\"degree\",0.0174532925199433,AUTHORITY[\"EPSG\",\"9122\"]],AUTHORITY[\"EPSG\",\"4326\"]],PROJECTION[\"Lambert_Azimuthal_Equal_Area\"],PARAMETER[\"latitude_of_center\",90],PARAMETER[\"longitude_of_center\",0],PARAMETER[\"false_easting\",0],PARAMETER[\"false_northing\",0],UNIT[\"metre\",1,AUTHORITY[\"EPSG\",\"9001\"]],AXIS[\"Easting\",SOUTH],AXIS[\"Northing\",SOUTH],AUTHORITY[\"EPSG\",\"6931\"]]')"
      ]
     },
     "execution_count": 4,
     "metadata": {},
     "output_type": "execute_result"
    }
   ],
   "source": [
    "wc_arctic.dataset.rio.crs"
   ]
  },
  {
   "cell_type": "code",
   "execution_count": 5,
   "id": "c4f62c7e-d89c-49b0-ad1b-4946d466e4f6",
   "metadata": {},
   "outputs": [
    {
     "data": {
      "text/plain": [
       "[CRUJRAnnualDaily: 1971, CRUJRAnnualDaily: 1970]"
      ]
     },
     "execution_count": 5,
     "metadata": {},
     "output_type": "execute_result"
    }
   ],
   "source": [
    "\n",
    "annual_list = []\n",
    "for cru_file in list(Path('/media/rwspicer/data/V3/tem/02-arctic/cru-jra/').glob('*.nc')):\n",
    "    year = int(cru_file.name.split('.')[-4])\n",
    "    if year < 1970 or year > 1971:\n",
    "        continue\n",
    "\n",
    "    temp = crujra.AnnualDaily(year,cru_file, verbose=False)\n",
    "    # temp.reproject(tile_index.crs.to_wkt())\n",
    "    annual_list.append(temp)\n",
    "\n",
    "annual_list[:5]"
   ]
  },
  {
   "cell_type": "code",
   "execution_count": 6,
   "id": "d9cebbfb-6396-42ec-9610-b57f96f1bd27",
   "metadata": {},
   "outputs": [],
   "source": [
    "cru_arctic_ts = crujra.AnnualTimeSeries(annual_list)"
   ]
  },
  {
   "cell_type": "code",
   "execution_count": 7,
   "id": "f1f28bc5-03c1-4c8f-b030-731f7cf21691",
   "metadata": {},
   "outputs": [
    {
     "data": {
      "text/plain": [
       "AnnualTimeSeries\n",
       "-CRUJRAnnualDaily: 1970\n",
       "-CRUJRAnnualDaily: 1971"
      ]
     },
     "execution_count": 7,
     "metadata": {},
     "output_type": "execute_result"
    }
   ],
   "source": [
    "cru_arctic_ts[1970:1975]"
   ]
  },
  {
   "cell_type": "code",
   "execution_count": 8,
   "id": "53b59b52-cdfd-46c0-b168-4a34eb426a71",
   "metadata": {},
   "outputs": [],
   "source": [
    "mytile = tile.Tile(c_tile, bounds, 4000, tile_index.crs.to_wkt(), buffer_px=20)"
   ]
  },
  {
   "cell_type": "code",
   "execution_count": 9,
   "id": "562bb3bc-092a-4a4f-8188-ebeeaa39c460",
   "metadata": {},
   "outputs": [],
   "source": [
    "mytile.import_normalized('worldclim', wc_arctic)"
   ]
  },
  {
   "cell_type": "code",
   "execution_count": 10,
   "id": "9d57ec1d-ea91-4e1b-a0f5-7bbb8c42f6bd",
   "metadata": {},
   "outputs": [
    {
     "name": "stdout",
     "output_type": "stream",
     "text": [
      "CRUJRAnnualDaily: 1970 clipping\n",
      "CRUJRAnnualDaily: 1971 clipping\n"
     ]
    }
   ],
   "source": [
    "mytile.import_normalized('cru_AnnualTimeSeries', cru_arctic_ts)"
   ]
  },
  {
   "cell_type": "code",
   "execution_count": 11,
   "id": "a9ca8862-a607-48c0-8d06-ea2ada72c6a5",
   "metadata": {},
   "outputs": [
    {
     "data": {
      "text/plain": [
       "AnnualTimeSeries\n",
       "-CRUJRAnnualDaily: 1970\n",
       "-CRUJRAnnualDaily: 1971"
      ]
     },
     "execution_count": 11,
     "metadata": {},
     "output_type": "execute_result"
    }
   ],
   "source": [
    "mytile.data['cru_AnnualTimeSeries']"
   ]
  },
  {
   "cell_type": "code",
   "execution_count": 12,
   "id": "378859b9-d81f-4da1-99b5-817096f065eb",
   "metadata": {},
   "outputs": [
    {
     "name": "stdout",
     "output_type": "stream",
     "text": [
      "tmin\n",
      "tmax\n",
      "tavg\n",
      "prec\n",
      "srad\n",
      "wind\n",
      "vapr\n",
      "tmin\n",
      "tmax\n",
      "tmp\n",
      "pre\n",
      "dswrf\n",
      "ugrd\n",
      "vgrd\n",
      "spfh\n",
      "pres\n",
      "tmin\n",
      "tmax\n",
      "tmp\n",
      "pre\n",
      "dswrf\n",
      "ugrd\n",
      "vgrd\n",
      "spfh\n",
      "pres\n"
     ]
    }
   ],
   "source": [
    "mytile.save('/media/rwspicer/data/V3/tem/03-tiles', overwrite=True)"
   ]
  },
  {
   "cell_type": "code",
   "execution_count": null,
   "id": "d456a4cf-c7e5-4ae4-87c3-2b6c54be77b1",
   "metadata": {},
   "outputs": [],
   "source": [
    "mytile.data['cru_AnnualTimeSeries'][1970].dataset.to_netcdf('test.nc', engine='netcdf4')"
   ]
  },
  {
   "cell_type": "code",
   "execution_count": null,
   "id": "29ce1fdc-5c41-4e00-88b4-b03f4dc49775",
   "metadata": {},
   "outputs": [],
   "source": []
  }
 ],
 "metadata": {
  "kernelspec": {
   "display_name": "Python 3 (ipykernel)",
   "language": "python",
   "name": "python3"
  },
  "language_info": {
   "codemirror_mode": {
    "name": "ipython",
    "version": 3
   },
   "file_extension": ".py",
   "mimetype": "text/x-python",
   "name": "python",
   "nbconvert_exporter": "python",
   "pygments_lexer": "ipython3",
   "version": "3.11.11"
  }
 },
 "nbformat": 4,
 "nbformat_minor": 5
}
