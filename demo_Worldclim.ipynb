{
 "cells": [
  {
   "cell_type": "markdown",
   "id": "d523cb56",
   "metadata": {},
   "source": [
    "# Worldclim pre-process to arctic\n",
    "\n",
    "The originally downloaded worldclim files are global in extent, so here we pre-process to reduce the data to just the area we are interested in, the arctic in this case.\n",
    "\n",
    "This step will open an extent `.tif` and a bunch of Worldclim `.zip` files. It will crop to the extents of the `.tif` (plus a buffer; default to 30px) and reproject. The result will be in memory and then you have to save it out to an explicit location. Here it makes sense to save the outputs with a numeric indicator in the file name so that we can tell what processing step we are at in the pipeline...\n",
    "\n",
    "For example the input to this step is from the raw download data directory and the output is saved labeled with 02 in the file name."
   ]
  },
  {
   "cell_type": "code",
   "execution_count": null,
   "id": "93f81ed7-8c5f-4e2f-bba5-447aa4b71f08",
   "metadata": {},
   "outputs": [],
   "source": [
    "from pathlib import Path\n",
    "\n",
    "from temds.datasources import worldclim"
   ]
  },
  {
   "cell_type": "code",
   "execution_count": null,
   "id": "ae698d52-4370-4ccd-abcb-c288580ca93c",
   "metadata": {},
   "outputs": [],
   "source": [
    "out_srs = 'EPSG:6931'\n",
    "extent_file = 'working/aoi_5km_buffer_6931.tiff' # Need to re-arrange the aoi stuff so it should end up in a folder labeled 01"
   ]
  },
  {
   "cell_type": "code",
   "execution_count": null,
   "id": "98a7efcd-50de-4928-9857-ff378fab8906",
   "metadata": {
    "scrolled": true
   },
   "outputs": [],
   "source": [
    "# config = 'my-config.yml'\n",
    "# wc_test = subprograms.download('worldclim', config=config)\n",
    "\n",
    "# Takes about 20 minutues on a 8 core 32GBmemory machachine.\n",
    "\n",
    "# This will create an object that has all the data in memory that is cropped\n",
    "# and re-projected to the extent of the AOI.\n",
    "wc = worldclim.WorldClim(\n",
    "    'working/download/worldclim', # This is processing step \"1\": raw download.\n",
    "    extent_file,\n",
    "    verbose = True,\n",
    "    cleanup_uncompressed = False\n",
    ")\n"
   ]
  },
  {
   "cell_type": "code",
   "execution_count": null,
   "id": "9cadf329",
   "metadata": {},
   "outputs": [],
   "source": [
    "wc.dataset"
   ]
  },
  {
   "cell_type": "code",
   "execution_count": null,
   "id": "cf9b9597",
   "metadata": {},
   "outputs": [],
   "source": [
    "# Think we fixed this bug, see datasources/base.py\n",
    "!mkdir working/02-arctic/worldclim"
   ]
  },
  {
   "cell_type": "code",
   "execution_count": null,
   "id": "e1592841-8fed-4200-9569-51029b8fbe80",
   "metadata": {},
   "outputs": [],
   "source": [
    "wc.save('working/02-arctic/worldclim/worldclim-arctic-buffered-better.nc', overwrite=True)\n",
    "\n"
   ]
  }
 ],
 "metadata": {
  "kernelspec": {
   "display_name": "temds",
   "language": "python",
   "name": "python3"
  },
  "language_info": {
   "codemirror_mode": {
    "name": "ipython",
    "version": 3
   },
   "file_extension": ".py",
   "mimetype": "text/x-python",
   "name": "python",
   "nbconvert_exporter": "python",
   "pygments_lexer": "ipython3",
   "version": "3.11.12"
  }
 },
 "nbformat": 4,
 "nbformat_minor": 5
}
