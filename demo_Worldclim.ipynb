{
 "cells": [
  {
   "cell_type": "markdown",
   "id": "0",
   "metadata": {},
   "source": [
    "# Worldclim pre-process to arctic\n",
    "\n",
    "This demo documents the preprocessing steps we take for **Worldclim** data which is used as a\n",
    "**climate reference** in the delta downscaling process. Our downscaling tools require that data \n",
    "is formatted with standardized **units**. \n",
    "\n",
    "Additionally, source Worldclim files are global in extent, so we preprocess to reduce the data \n",
    "to just the area we are interested in, the arctic in this case. \n",
    "\n",
    "## Source Worldclim data \n",
    "\n",
    "Source worldclim data retrieved per variable in `.zip` archives. Each archive has 12 monthly `.tif` \n",
    "**high resolution** raster files. These data have a global extent with **EPSG:4326** as the CRS. \n",
    "Additional information  on the format of the source data can be \n",
    "found [here](https://www.worldclim.org/data/worldclim21.html).\n",
    "\n",
    "Note: By default we look at the 30 degree second (~1km^2) data.\n",
    "\n",
    "## Preprocessing \n",
    "\n",
    "Before downscaling we perform 2 preprocessing steps. First we transform the data spatially. Second \n",
    "we standardize the units.\n",
    "\n",
    "For the first step the extent, resolution, and CRS are determined from a raster file. We use a geotiff \n",
    "raster file with an extent covering the arctic with 4km^2 resolution in **EPSG:6931**. **GDAL** is used \n",
    "to convert each monthly raster file target extent, resolution, and CRS. The resulting data is combined into\n",
    "an **xarray** dataset. \n",
    "\n",
    "After the spatial transformation the units are converted to the units that our downscaling processes \n",
    "are setup to support. \n",
    "\n",
    "## Result\n",
    "\n",
    "The result of the worldclim preprocessing is a **TEMdataset**. `TEMDataset` objects are a wrapper around \n",
    "`xarray.Dataset` objects. Our wrapper give us a common interface to tools for clipping, saving, and loading\n",
    "data amongst others. Our intermediate data, like this arctic Worldclim data, is saved to disc as netcdf files.  \n",
    "\n",
    "By convention we keep data in directories based on how much processing we have done on it. Here we keep the\n",
    "data for the arctic in a directory called `02-arctic`."
   ]
  },
  {
   "cell_type": "markdown",
   "id": "1",
   "metadata": {},
   "source": [
    "# Set up a log for the process\n",
    "\n",
    "Our tools use an object to log and display various messages that may be created. There are several message priorities that\n",
    "a logged message may have. All messages are saved, but only messages with the priority set in `verbose_levels` are printed to the screen\\console. For this demo we will display all **INFO** messages, but if you are having issues it may be usefull to \n",
    "log all **DEBUG** messages. "
   ]
  },
  {
   "cell_type": "code",
   "execution_count": null,
   "id": "2",
   "metadata": {},
   "outputs": [],
   "source": [
    "from temds import logger\n",
    "log = logger.Logger(verbose_levels=logger.INFO)"
   ]
  },
  {
   "cell_type": "markdown",
   "id": "3",
   "metadata": {},
   "source": [
    "# Extent raster file\n",
    "\n",
    "Define the extent raster file"
   ]
  },
  {
   "cell_type": "code",
   "execution_count": null,
   "id": "4",
   "metadata": {},
   "outputs": [],
   "source": [
    "extent_file = 'working/00-aoi/aoi-5km-buffer-6931.tif' "
   ]
  },
  {
   "cell_type": "markdown",
   "id": "5",
   "metadata": {},
   "source": [
    "# Preprocessing source data\n",
    "\n",
    "The **TEMDataset** class has a static method **from_worldclim** that allows a `TEMDataset` to be created from source Worldclim data.\n",
    "The required argument to this method is the directory where the source data is or will be downloaded to. Important optional arguments\n",
    "used here include `download`, `extent_raster`, and `logger`.\n",
    "\n",
    "* download: If you have already downloaded the data you can set this to `False`\n",
    "* extent_raster: If you do not provide this the extent, resolution, and CRS are detrimied from the source data\n",
    "* logger: This is the previously discussed logging object. If not provided a logger is created that does not display messages. \n",
    "\n",
    "Other optioanl arguments allow for variables to use to be set, the Worldclim version and resolution to be set. See code documentation \n",
    "details."
   ]
  },
  {
   "cell_type": "code",
   "execution_count": null,
   "id": "6",
   "metadata": {},
   "outputs": [],
   "source": [
    "from temds.datasources import dataset\n",
    "\n",
    "worldclim_arctic = dataset.TEMDataset.from_worldclim(\n",
    "            'working/01-download/worldclim',\n",
    "            download=True, \n",
    "            extent_raster=extent_file, \n",
    "            logger=log,\n",
    ")\n",
    "\n",
    "# Takes about 20 minutues on a 8 core 32GBmemory machachine.\n",
    "\n"
   ]
  },
  {
   "cell_type": "markdown",
   "id": "7",
   "metadata": {},
   "source": [
    "# Viewing data\n",
    "\n",
    "We can view the data with the `.dataset` attribute"
   ]
  },
  {
   "cell_type": "code",
   "execution_count": null,
   "id": "8",
   "metadata": {},
   "outputs": [],
   "source": [
    "worldclim_arctic.dataset"
   ]
  },
  {
   "cell_type": "markdown",
   "id": "9",
   "metadata": {},
   "source": [
    "The units in the dataset can be quickly viewed with the `units` property."
   ]
  },
  {
   "cell_type": "code",
   "execution_count": null,
   "id": "10",
   "metadata": {},
   "outputs": [],
   "source": [
    "worldclim_arctic.units"
   ]
  },
  {
   "cell_type": "markdown",
   "id": "11",
   "metadata": {},
   "source": [
    "TEMDatasets have additional properties `crs`, `resolution`, `vars`, and `transform`"
   ]
  },
  {
   "cell_type": "markdown",
   "id": "12",
   "metadata": {},
   "source": [
    "# Saving \n",
    "\n",
    "The **TEMDataset** class has a `save` function. **netcdf** files created with `save` will have a global attribute with the TEMDS code version. See documentation for additional arguments. "
   ]
  },
  {
   "cell_type": "code",
   "execution_count": null,
   "id": "13",
   "metadata": {},
   "outputs": [],
   "source": [
    "worldclim_arctic.save('working/02-arctic/worldclim/worldclim-arctic.nc', overwrite=True)\n",
    "\n"
   ]
  }
 ],
 "metadata": {
  "kernelspec": {
   "display_name": "Python 3 (ipykernel)",
   "language": "python",
   "name": "python3"
  },
  "language_info": {
   "codemirror_mode": {
    "name": "ipython",
    "version": 3
   },
   "file_extension": ".py",
   "mimetype": "text/x-python",
   "name": "python",
   "nbconvert_exporter": "python",
   "pygments_lexer": "ipython3",
   "version": "3.11.11"
  }
 },
 "nbformat": 4,
 "nbformat_minor": 5
}
